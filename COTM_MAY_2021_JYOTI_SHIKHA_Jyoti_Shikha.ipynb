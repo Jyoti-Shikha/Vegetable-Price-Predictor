{
 "cells": [
  {
   "cell_type": "markdown",
   "metadata": {
    "id": "1mbKD3wZkqzy"
   },
   "source": [
    "# AISC_COTM_MAY_2021"
   ]
  },
  {
   "cell_type": "markdown",
   "metadata": {
    "id": "Sm2Cfsxckqz2"
   },
   "source": [
    "# NAME : JYOTI SHIKHA"
   ]
  },
  {
   "cell_type": "markdown",
   "metadata": {
    "id": "N7QB8Fcmkqz3"
   },
   "source": [
    "# Importing Libraries"
   ]
  },
  {
   "cell_type": "code",
   "execution_count": null,
   "metadata": {
    "id": "gEKDfMmnkqz4"
   },
   "outputs": [],
   "source": [
    "import pandas as pd\n",
    "import matplotlib.pyplot as plt\n",
    "import numpy as np\n",
    "import tkinter as tk\n",
    "from tkinter import *\n",
    "from tkinter import ttk\n",
    "import warnings\n",
    "import seaborn as sns\n",
    "import sklearn\n",
    "from seaborn import pairplot\n",
    "from sklearn.model_selection import train_test_split\n",
    "from sklearn.linear_model import LinearRegression\n",
    "from sklearn.metrics import r2_score\n",
    "from sklearn.preprocessing import OneHotEncoder\n",
    "from sklearn.compose import make_column_transformer\n",
    "from sklearn.pipeline import make_pipeline"
   ]
  },
  {
   "cell_type": "code",
   "execution_count": null,
   "metadata": {
    "id": "E6WlF6xAkqz5"
   },
   "outputs": [],
   "source": [
    "warnings.filterwarnings(\"ignore\")"
   ]
  },
  {
   "cell_type": "markdown",
   "metadata": {
    "id": "dKR7pwnkkqz5"
   },
   "source": [
    "# Data Exploration"
   ]
  },
  {
   "cell_type": "code",
   "execution_count": null,
   "metadata": {
    "id": "IohM_5Q2kqz6"
   },
   "outputs": [],
   "source": [
    "df = pd.read_csv(\"Vegetable_market.csv\")"
   ]
  },
  {
   "cell_type": "code",
   "execution_count": null,
   "metadata": {
    "id": "jR7uCmvzkqz6",
    "outputId": "b5f3f80f-9f53-47d6-d5ad-83e29e6c4ae1",
    "scrolled": true
   },
   "outputs": [
    {
     "data": {
      "text/html": [
       "<div>\n",
       "<style scoped>\n",
       "    .dataframe tbody tr th:only-of-type {\n",
       "        vertical-align: middle;\n",
       "    }\n",
       "\n",
       "    .dataframe tbody tr th {\n",
       "        vertical-align: top;\n",
       "    }\n",
       "\n",
       "    .dataframe thead th {\n",
       "        text-align: right;\n",
       "    }\n",
       "</style>\n",
       "<table border=\"1\" class=\"dataframe\">\n",
       "  <thead>\n",
       "    <tr style=\"text-align: right;\">\n",
       "      <th></th>\n",
       "      <th>Vegetable</th>\n",
       "      <th>Season</th>\n",
       "      <th>Month</th>\n",
       "      <th>Temp</th>\n",
       "      <th>Deasaster Happen in last 3month</th>\n",
       "      <th>Vegetable condition</th>\n",
       "      <th>Price per kg</th>\n",
       "    </tr>\n",
       "  </thead>\n",
       "  <tbody>\n",
       "    <tr>\n",
       "      <th>0</th>\n",
       "      <td>potato</td>\n",
       "      <td>winter</td>\n",
       "      <td>jan</td>\n",
       "      <td>15</td>\n",
       "      <td>no</td>\n",
       "      <td>fresh</td>\n",
       "      <td>20</td>\n",
       "    </tr>\n",
       "    <tr>\n",
       "      <th>1</th>\n",
       "      <td>tomato</td>\n",
       "      <td>winter</td>\n",
       "      <td>jan</td>\n",
       "      <td>15</td>\n",
       "      <td>no</td>\n",
       "      <td>fresh</td>\n",
       "      <td>50</td>\n",
       "    </tr>\n",
       "    <tr>\n",
       "      <th>2</th>\n",
       "      <td>peas</td>\n",
       "      <td>winter</td>\n",
       "      <td>jan</td>\n",
       "      <td>15</td>\n",
       "      <td>no</td>\n",
       "      <td>fresh</td>\n",
       "      <td>70</td>\n",
       "    </tr>\n",
       "    <tr>\n",
       "      <th>3</th>\n",
       "      <td>pumkin</td>\n",
       "      <td>winter</td>\n",
       "      <td>jan</td>\n",
       "      <td>15</td>\n",
       "      <td>no</td>\n",
       "      <td>fresh</td>\n",
       "      <td>25</td>\n",
       "    </tr>\n",
       "    <tr>\n",
       "      <th>4</th>\n",
       "      <td>cucumber</td>\n",
       "      <td>winter</td>\n",
       "      <td>jan</td>\n",
       "      <td>15</td>\n",
       "      <td>no</td>\n",
       "      <td>fresh</td>\n",
       "      <td>20</td>\n",
       "    </tr>\n",
       "    <tr>\n",
       "      <th>...</th>\n",
       "      <td>...</td>\n",
       "      <td>...</td>\n",
       "      <td>...</td>\n",
       "      <td>...</td>\n",
       "      <td>...</td>\n",
       "      <td>...</td>\n",
       "      <td>...</td>\n",
       "    </tr>\n",
       "    <tr>\n",
       "      <th>116</th>\n",
       "      <td>brinjal</td>\n",
       "      <td>winter</td>\n",
       "      <td>jan</td>\n",
       "      <td>15</td>\n",
       "      <td>yes</td>\n",
       "      <td>fresh</td>\n",
       "      <td>33</td>\n",
       "    </tr>\n",
       "    <tr>\n",
       "      <th>117</th>\n",
       "      <td>ginger</td>\n",
       "      <td>winter</td>\n",
       "      <td>jan</td>\n",
       "      <td>15</td>\n",
       "      <td>no</td>\n",
       "      <td>fresh</td>\n",
       "      <td>88</td>\n",
       "    </tr>\n",
       "    <tr>\n",
       "      <th>118</th>\n",
       "      <td>potato</td>\n",
       "      <td>summer</td>\n",
       "      <td>apr</td>\n",
       "      <td>32</td>\n",
       "      <td>no</td>\n",
       "      <td>fresh</td>\n",
       "      <td>24</td>\n",
       "    </tr>\n",
       "    <tr>\n",
       "      <th>119</th>\n",
       "      <td>peas</td>\n",
       "      <td>summer</td>\n",
       "      <td>apr</td>\n",
       "      <td>33</td>\n",
       "      <td>no</td>\n",
       "      <td>fresh</td>\n",
       "      <td>33</td>\n",
       "    </tr>\n",
       "    <tr>\n",
       "      <th>120</th>\n",
       "      <td>radish</td>\n",
       "      <td>summer</td>\n",
       "      <td>apr</td>\n",
       "      <td>32</td>\n",
       "      <td>no</td>\n",
       "      <td>fresh</td>\n",
       "      <td>9</td>\n",
       "    </tr>\n",
       "  </tbody>\n",
       "</table>\n",
       "<p>121 rows × 7 columns</p>\n",
       "</div>"
      ],
      "text/plain": [
       "    Vegetable  Season Month  Temp Deasaster Happen in last 3month  \\\n",
       "0      potato  winter   jan    15                              no   \n",
       "1     tomato   winter   jan    15                              no   \n",
       "2        peas  winter   jan    15                              no   \n",
       "3      pumkin  winter   jan    15                              no   \n",
       "4    cucumber  winter   jan    15                              no   \n",
       "..        ...     ...   ...   ...                             ...   \n",
       "116   brinjal  winter   jan    15                             yes   \n",
       "117    ginger  winter   jan    15                              no   \n",
       "118    potato  summer   apr    32                              no   \n",
       "119      peas  summer   apr    33                              no   \n",
       "120    radish  summer   apr    32                              no   \n",
       "\n",
       "    Vegetable condition  Price per kg  \n",
       "0                 fresh            20  \n",
       "1                 fresh            50  \n",
       "2                 fresh            70  \n",
       "3                 fresh            25  \n",
       "4                 fresh            20  \n",
       "..                  ...           ...  \n",
       "116               fresh            33  \n",
       "117               fresh            88  \n",
       "118               fresh            24  \n",
       "119               fresh            33  \n",
       "120               fresh             9  \n",
       "\n",
       "[121 rows x 7 columns]"
      ]
     },
     "execution_count": 4,
     "metadata": {
      "tags": []
     },
     "output_type": "execute_result"
    }
   ],
   "source": [
    "df"
   ]
  },
  {
   "cell_type": "code",
   "execution_count": null,
   "metadata": {
    "id": "_Zc_vE4Ukqz8",
    "outputId": "932bd122-0c74-4739-e01e-e83e53e8d3d4",
    "scrolled": true
   },
   "outputs": [
    {
     "data": {
      "text/html": [
       "<div>\n",
       "<style scoped>\n",
       "    .dataframe tbody tr th:only-of-type {\n",
       "        vertical-align: middle;\n",
       "    }\n",
       "\n",
       "    .dataframe tbody tr th {\n",
       "        vertical-align: top;\n",
       "    }\n",
       "\n",
       "    .dataframe thead th {\n",
       "        text-align: right;\n",
       "    }\n",
       "</style>\n",
       "<table border=\"1\" class=\"dataframe\">\n",
       "  <thead>\n",
       "    <tr style=\"text-align: right;\">\n",
       "      <th></th>\n",
       "      <th>Vegetable</th>\n",
       "      <th>Season</th>\n",
       "      <th>Month</th>\n",
       "      <th>Temp</th>\n",
       "      <th>Deasaster Happen in last 3month</th>\n",
       "      <th>Vegetable condition</th>\n",
       "      <th>Price per kg</th>\n",
       "    </tr>\n",
       "  </thead>\n",
       "  <tbody>\n",
       "    <tr>\n",
       "      <th>0</th>\n",
       "      <td>potato</td>\n",
       "      <td>winter</td>\n",
       "      <td>jan</td>\n",
       "      <td>15</td>\n",
       "      <td>no</td>\n",
       "      <td>fresh</td>\n",
       "      <td>20</td>\n",
       "    </tr>\n",
       "    <tr>\n",
       "      <th>1</th>\n",
       "      <td>tomato</td>\n",
       "      <td>winter</td>\n",
       "      <td>jan</td>\n",
       "      <td>15</td>\n",
       "      <td>no</td>\n",
       "      <td>fresh</td>\n",
       "      <td>50</td>\n",
       "    </tr>\n",
       "    <tr>\n",
       "      <th>2</th>\n",
       "      <td>peas</td>\n",
       "      <td>winter</td>\n",
       "      <td>jan</td>\n",
       "      <td>15</td>\n",
       "      <td>no</td>\n",
       "      <td>fresh</td>\n",
       "      <td>70</td>\n",
       "    </tr>\n",
       "    <tr>\n",
       "      <th>3</th>\n",
       "      <td>pumkin</td>\n",
       "      <td>winter</td>\n",
       "      <td>jan</td>\n",
       "      <td>15</td>\n",
       "      <td>no</td>\n",
       "      <td>fresh</td>\n",
       "      <td>25</td>\n",
       "    </tr>\n",
       "    <tr>\n",
       "      <th>4</th>\n",
       "      <td>cucumber</td>\n",
       "      <td>winter</td>\n",
       "      <td>jan</td>\n",
       "      <td>15</td>\n",
       "      <td>no</td>\n",
       "      <td>fresh</td>\n",
       "      <td>20</td>\n",
       "    </tr>\n",
       "  </tbody>\n",
       "</table>\n",
       "</div>"
      ],
      "text/plain": [
       "  Vegetable  Season Month  Temp Deasaster Happen in last 3month  \\\n",
       "0    potato  winter   jan    15                              no   \n",
       "1   tomato   winter   jan    15                              no   \n",
       "2      peas  winter   jan    15                              no   \n",
       "3    pumkin  winter   jan    15                              no   \n",
       "4  cucumber  winter   jan    15                              no   \n",
       "\n",
       "  Vegetable condition  Price per kg  \n",
       "0               fresh            20  \n",
       "1               fresh            50  \n",
       "2               fresh            70  \n",
       "3               fresh            25  \n",
       "4               fresh            20  "
      ]
     },
     "execution_count": 5,
     "metadata": {
      "tags": []
     },
     "output_type": "execute_result"
    }
   ],
   "source": [
    "df.head()"
   ]
  },
  {
   "cell_type": "code",
   "execution_count": null,
   "metadata": {
    "id": "jq2YPGlLkqz9",
    "outputId": "c4613679-e36b-4d5a-c52f-8284fa49a448"
   },
   "outputs": [
    {
     "data": {
      "text/html": [
       "<div>\n",
       "<style scoped>\n",
       "    .dataframe tbody tr th:only-of-type {\n",
       "        vertical-align: middle;\n",
       "    }\n",
       "\n",
       "    .dataframe tbody tr th {\n",
       "        vertical-align: top;\n",
       "    }\n",
       "\n",
       "    .dataframe thead th {\n",
       "        text-align: right;\n",
       "    }\n",
       "</style>\n",
       "<table border=\"1\" class=\"dataframe\">\n",
       "  <thead>\n",
       "    <tr style=\"text-align: right;\">\n",
       "      <th></th>\n",
       "      <th>Vegetable</th>\n",
       "      <th>Season</th>\n",
       "      <th>Month</th>\n",
       "      <th>Temp</th>\n",
       "      <th>Deasaster Happen in last 3month</th>\n",
       "      <th>Vegetable condition</th>\n",
       "      <th>Price per kg</th>\n",
       "    </tr>\n",
       "  </thead>\n",
       "  <tbody>\n",
       "    <tr>\n",
       "      <th>116</th>\n",
       "      <td>brinjal</td>\n",
       "      <td>winter</td>\n",
       "      <td>jan</td>\n",
       "      <td>15</td>\n",
       "      <td>yes</td>\n",
       "      <td>fresh</td>\n",
       "      <td>33</td>\n",
       "    </tr>\n",
       "    <tr>\n",
       "      <th>117</th>\n",
       "      <td>ginger</td>\n",
       "      <td>winter</td>\n",
       "      <td>jan</td>\n",
       "      <td>15</td>\n",
       "      <td>no</td>\n",
       "      <td>fresh</td>\n",
       "      <td>88</td>\n",
       "    </tr>\n",
       "    <tr>\n",
       "      <th>118</th>\n",
       "      <td>potato</td>\n",
       "      <td>summer</td>\n",
       "      <td>apr</td>\n",
       "      <td>32</td>\n",
       "      <td>no</td>\n",
       "      <td>fresh</td>\n",
       "      <td>24</td>\n",
       "    </tr>\n",
       "    <tr>\n",
       "      <th>119</th>\n",
       "      <td>peas</td>\n",
       "      <td>summer</td>\n",
       "      <td>apr</td>\n",
       "      <td>33</td>\n",
       "      <td>no</td>\n",
       "      <td>fresh</td>\n",
       "      <td>33</td>\n",
       "    </tr>\n",
       "    <tr>\n",
       "      <th>120</th>\n",
       "      <td>radish</td>\n",
       "      <td>summer</td>\n",
       "      <td>apr</td>\n",
       "      <td>32</td>\n",
       "      <td>no</td>\n",
       "      <td>fresh</td>\n",
       "      <td>9</td>\n",
       "    </tr>\n",
       "  </tbody>\n",
       "</table>\n",
       "</div>"
      ],
      "text/plain": [
       "    Vegetable  Season Month  Temp Deasaster Happen in last 3month  \\\n",
       "116   brinjal  winter   jan    15                             yes   \n",
       "117    ginger  winter   jan    15                              no   \n",
       "118    potato  summer   apr    32                              no   \n",
       "119      peas  summer   apr    33                              no   \n",
       "120    radish  summer   apr    32                              no   \n",
       "\n",
       "    Vegetable condition  Price per kg  \n",
       "116               fresh            33  \n",
       "117               fresh            88  \n",
       "118               fresh            24  \n",
       "119               fresh            33  \n",
       "120               fresh             9  "
      ]
     },
     "execution_count": 6,
     "metadata": {
      "tags": []
     },
     "output_type": "execute_result"
    }
   ],
   "source": [
    "df.tail()"
   ]
  },
  {
   "cell_type": "code",
   "execution_count": null,
   "metadata": {
    "id": "ZncdhX4Lkqz-",
    "outputId": "ef0e96a2-ac04-4745-97bf-b2621a31b57e"
   },
   "outputs": [
    {
     "data": {
      "text/plain": [
       "(121, 7)"
      ]
     },
     "execution_count": 7,
     "metadata": {
      "tags": []
     },
     "output_type": "execute_result"
    }
   ],
   "source": [
    "df.shape"
   ]
  },
  {
   "cell_type": "code",
   "execution_count": null,
   "metadata": {
    "id": "27-nHeOFkqz-",
    "outputId": "da551425-b78f-4809-d00f-546c0fdc41a6"
   },
   "outputs": [
    {
     "data": {
      "text/plain": [
       "Vegetable                          0\n",
       "Season                             0\n",
       "Month                              0\n",
       "Temp                               0\n",
       "Deasaster Happen in last 3month    0\n",
       "Vegetable condition                0\n",
       "Price per kg                       0\n",
       "dtype: int64"
      ]
     },
     "execution_count": 8,
     "metadata": {
      "tags": []
     },
     "output_type": "execute_result"
    }
   ],
   "source": [
    "df.isnull().sum()"
   ]
  },
  {
   "cell_type": "markdown",
   "metadata": {
    "id": "QuuPKgFvkqz-"
   },
   "source": [
    "There is no null value in the dataset"
   ]
  },
  {
   "cell_type": "code",
   "execution_count": null,
   "metadata": {
    "id": "h2IhMJRzkqz_",
    "outputId": "d6ee0648-7038-491c-b12b-5c02089cd84c"
   },
   "outputs": [
    {
     "data": {
      "text/html": [
       "<div>\n",
       "<style scoped>\n",
       "    .dataframe tbody tr th:only-of-type {\n",
       "        vertical-align: middle;\n",
       "    }\n",
       "\n",
       "    .dataframe tbody tr th {\n",
       "        vertical-align: top;\n",
       "    }\n",
       "\n",
       "    .dataframe thead th {\n",
       "        text-align: right;\n",
       "    }\n",
       "</style>\n",
       "<table border=\"1\" class=\"dataframe\">\n",
       "  <thead>\n",
       "    <tr style=\"text-align: right;\">\n",
       "      <th></th>\n",
       "      <th>Temp</th>\n",
       "      <th>Price per kg</th>\n",
       "    </tr>\n",
       "  </thead>\n",
       "  <tbody>\n",
       "    <tr>\n",
       "      <th>count</th>\n",
       "      <td>121.000000</td>\n",
       "      <td>121.000000</td>\n",
       "    </tr>\n",
       "    <tr>\n",
       "      <th>mean</th>\n",
       "      <td>24.892562</td>\n",
       "      <td>55.330579</td>\n",
       "    </tr>\n",
       "    <tr>\n",
       "      <th>std</th>\n",
       "      <td>9.319157</td>\n",
       "      <td>48.769934</td>\n",
       "    </tr>\n",
       "    <tr>\n",
       "      <th>min</th>\n",
       "      <td>15.000000</td>\n",
       "      <td>9.000000</td>\n",
       "    </tr>\n",
       "    <tr>\n",
       "      <th>25%</th>\n",
       "      <td>15.000000</td>\n",
       "      <td>22.000000</td>\n",
       "    </tr>\n",
       "    <tr>\n",
       "      <th>50%</th>\n",
       "      <td>27.000000</td>\n",
       "      <td>35.000000</td>\n",
       "    </tr>\n",
       "    <tr>\n",
       "      <th>75%</th>\n",
       "      <td>32.000000</td>\n",
       "      <td>70.000000</td>\n",
       "    </tr>\n",
       "    <tr>\n",
       "      <th>max</th>\n",
       "      <td>43.000000</td>\n",
       "      <td>250.000000</td>\n",
       "    </tr>\n",
       "  </tbody>\n",
       "</table>\n",
       "</div>"
      ],
      "text/plain": [
       "             Temp  Price per kg\n",
       "count  121.000000    121.000000\n",
       "mean    24.892562     55.330579\n",
       "std      9.319157     48.769934\n",
       "min     15.000000      9.000000\n",
       "25%     15.000000     22.000000\n",
       "50%     27.000000     35.000000\n",
       "75%     32.000000     70.000000\n",
       "max     43.000000    250.000000"
      ]
     },
     "execution_count": 9,
     "metadata": {
      "tags": []
     },
     "output_type": "execute_result"
    }
   ],
   "source": [
    "df.describe()"
   ]
  },
  {
   "cell_type": "code",
   "execution_count": null,
   "metadata": {
    "id": "bV1q7seMkqz_",
    "outputId": "aaaaa4e9-fd35-4eab-cb26-2bb63ce8e039"
   },
   "outputs": [
    {
     "data": {
      "text/plain": [
       "array(['potato', 'tomato ', 'peas', 'pumkin', 'cucumber',\n",
       "       'pointed grourd ', 'Raddish', 'Bitter gourd', 'onion', 'garlic',\n",
       "       'cabage', 'califlower', 'chilly', 'okra', 'brinjal', 'ginger',\n",
       "       'radish'], dtype=object)"
      ]
     },
     "execution_count": 10,
     "metadata": {
      "tags": []
     },
     "output_type": "execute_result"
    }
   ],
   "source": [
    "df[\"Vegetable\"].unique()"
   ]
  },
  {
   "cell_type": "code",
   "execution_count": null,
   "metadata": {
    "id": "2XJASYF0kq0A",
    "outputId": "266ffd97-bb61-45fc-898a-024030324e90"
   },
   "outputs": [
    {
     "data": {
      "text/plain": [
       "array([ 20,  50,  70,  25, 130,  10,  35,  45, 150,  80,  30, 100,  60,\n",
       "       170,  40, 200,  15, 250,  90,  16,  12,  28, 120,  75,  18, 190,\n",
       "       210,  42,  55,  29,  32, 132,  21,  19,  22,  33,  24,  23,  53,\n",
       "        27, 123,  88,   9], dtype=int64)"
      ]
     },
     "execution_count": 11,
     "metadata": {
      "tags": []
     },
     "output_type": "execute_result"
    }
   ],
   "source": [
    "df[\"Price per kg\"].unique()"
   ]
  },
  {
   "cell_type": "code",
   "execution_count": null,
   "metadata": {
    "id": "_Ne5Ktc7kq0A",
    "outputId": "6fcb945f-7f78-40fe-bcaa-28dbb57dc4d8"
   },
   "outputs": [
    {
     "data": {
      "text/plain": [
       "array(['jan', 'apr', 'july', 'sept', 'oct', 'dec', 'may', 'aug', 'june',\n",
       "       ' ', 'march'], dtype=object)"
      ]
     },
     "execution_count": 12,
     "metadata": {
      "tags": []
     },
     "output_type": "execute_result"
    }
   ],
   "source": [
    "df[\"Month\"].unique()"
   ]
  },
  {
   "cell_type": "code",
   "execution_count": null,
   "metadata": {
    "id": "jRoqVXDBkq0B",
    "outputId": "d98e009a-5859-460d-eb8a-ef79088faaaa"
   },
   "outputs": [
    {
     "data": {
      "text/plain": [
       "array([15, 32, 33, 35, 37, 30, 38, 28, 27, 18, 40, 29, 41, 31, 43, 21, 26],\n",
       "      dtype=int64)"
      ]
     },
     "execution_count": 13,
     "metadata": {
      "tags": []
     },
     "output_type": "execute_result"
    }
   ],
   "source": [
    "df[\"Temp\"].unique()"
   ]
  },
  {
   "cell_type": "code",
   "execution_count": null,
   "metadata": {
    "id": "c6z20HSZkq0B",
    "outputId": "4b5d7750-59f6-41af-cc47-7a1c85eb35db"
   },
   "outputs": [
    {
     "data": {
      "text/plain": [
       "array(['no', 'yes'], dtype=object)"
      ]
     },
     "execution_count": 14,
     "metadata": {
      "tags": []
     },
     "output_type": "execute_result"
    }
   ],
   "source": [
    "df[\"Deasaster Happen in last 3month\"].unique()"
   ]
  },
  {
   "cell_type": "code",
   "execution_count": null,
   "metadata": {
    "id": "XBypbJExkq0B",
    "outputId": "0afa6dc2-4407-40ac-f77c-5c8e2e4e2c9a"
   },
   "outputs": [
    {
     "data": {
      "text/plain": [
       "array(['fresh', 'scrap', 'avarage', 'scarp'], dtype=object)"
      ]
     },
     "execution_count": 15,
     "metadata": {
      "tags": []
     },
     "output_type": "execute_result"
    }
   ],
   "source": [
    "df[\"Vegetable condition\"].unique()"
   ]
  },
  {
   "cell_type": "code",
   "execution_count": null,
   "metadata": {
    "id": "Lbars4ihkq0C",
    "outputId": "30a5fee5-f598-455d-94e7-960b99fdea8e"
   },
   "outputs": [
    {
     "data": {
      "text/plain": [
       "array([ 20,  50,  70,  25, 130,  10,  35,  45, 150,  80,  30, 100,  60,\n",
       "       170,  40, 200,  15, 250,  90,  16,  12,  28, 120,  75,  18, 190,\n",
       "       210,  42,  55,  29,  32, 132,  21,  19,  22,  33,  24,  23,  53,\n",
       "        27, 123,  88,   9], dtype=int64)"
      ]
     },
     "execution_count": 16,
     "metadata": {
      "tags": []
     },
     "output_type": "execute_result"
    }
   ],
   "source": [
    "df[\"Price per kg\"].unique()"
   ]
  },
  {
   "cell_type": "markdown",
   "metadata": {
    "id": "0U8LXOn5kq0C"
   },
   "source": [
    "# Data Cleaning"
   ]
  },
  {
   "cell_type": "code",
   "execution_count": null,
   "metadata": {
    "id": "q-eJIRlNkq0C",
    "outputId": "e6bd1bda-7495-4c23-acd4-e0a302ab62c3"
   },
   "outputs": [
    {
     "data": {
      "text/html": [
       "<div>\n",
       "<style scoped>\n",
       "    .dataframe tbody tr th:only-of-type {\n",
       "        vertical-align: middle;\n",
       "    }\n",
       "\n",
       "    .dataframe tbody tr th {\n",
       "        vertical-align: top;\n",
       "    }\n",
       "\n",
       "    .dataframe thead th {\n",
       "        text-align: right;\n",
       "    }\n",
       "</style>\n",
       "<table border=\"1\" class=\"dataframe\">\n",
       "  <thead>\n",
       "    <tr style=\"text-align: right;\">\n",
       "      <th></th>\n",
       "      <th>Vegetable</th>\n",
       "      <th>Season</th>\n",
       "      <th>Month</th>\n",
       "      <th>Temp</th>\n",
       "      <th>Deasaster Happen in last 3month</th>\n",
       "      <th>Vegetable condition</th>\n",
       "      <th>Price per kg</th>\n",
       "    </tr>\n",
       "  </thead>\n",
       "  <tbody>\n",
       "    <tr>\n",
       "      <th>0</th>\n",
       "      <td>potato</td>\n",
       "      <td>winter</td>\n",
       "      <td>jan</td>\n",
       "      <td>15</td>\n",
       "      <td>no</td>\n",
       "      <td>fresh</td>\n",
       "      <td>20</td>\n",
       "    </tr>\n",
       "    <tr>\n",
       "      <th>1</th>\n",
       "      <td>tomato</td>\n",
       "      <td>winter</td>\n",
       "      <td>jan</td>\n",
       "      <td>15</td>\n",
       "      <td>no</td>\n",
       "      <td>fresh</td>\n",
       "      <td>50</td>\n",
       "    </tr>\n",
       "    <tr>\n",
       "      <th>2</th>\n",
       "      <td>peas</td>\n",
       "      <td>winter</td>\n",
       "      <td>jan</td>\n",
       "      <td>15</td>\n",
       "      <td>no</td>\n",
       "      <td>fresh</td>\n",
       "      <td>70</td>\n",
       "    </tr>\n",
       "    <tr>\n",
       "      <th>3</th>\n",
       "      <td>pumkin</td>\n",
       "      <td>winter</td>\n",
       "      <td>jan</td>\n",
       "      <td>15</td>\n",
       "      <td>no</td>\n",
       "      <td>fresh</td>\n",
       "      <td>25</td>\n",
       "    </tr>\n",
       "    <tr>\n",
       "      <th>4</th>\n",
       "      <td>cucumber</td>\n",
       "      <td>winter</td>\n",
       "      <td>jan</td>\n",
       "      <td>15</td>\n",
       "      <td>no</td>\n",
       "      <td>fresh</td>\n",
       "      <td>20</td>\n",
       "    </tr>\n",
       "    <tr>\n",
       "      <th>...</th>\n",
       "      <td>...</td>\n",
       "      <td>...</td>\n",
       "      <td>...</td>\n",
       "      <td>...</td>\n",
       "      <td>...</td>\n",
       "      <td>...</td>\n",
       "      <td>...</td>\n",
       "    </tr>\n",
       "    <tr>\n",
       "      <th>116</th>\n",
       "      <td>brinjal</td>\n",
       "      <td>winter</td>\n",
       "      <td>jan</td>\n",
       "      <td>15</td>\n",
       "      <td>yes</td>\n",
       "      <td>fresh</td>\n",
       "      <td>33</td>\n",
       "    </tr>\n",
       "    <tr>\n",
       "      <th>117</th>\n",
       "      <td>ginger</td>\n",
       "      <td>winter</td>\n",
       "      <td>jan</td>\n",
       "      <td>15</td>\n",
       "      <td>no</td>\n",
       "      <td>fresh</td>\n",
       "      <td>88</td>\n",
       "    </tr>\n",
       "    <tr>\n",
       "      <th>118</th>\n",
       "      <td>potato</td>\n",
       "      <td>summer</td>\n",
       "      <td>apr</td>\n",
       "      <td>32</td>\n",
       "      <td>no</td>\n",
       "      <td>fresh</td>\n",
       "      <td>24</td>\n",
       "    </tr>\n",
       "    <tr>\n",
       "      <th>119</th>\n",
       "      <td>peas</td>\n",
       "      <td>summer</td>\n",
       "      <td>apr</td>\n",
       "      <td>33</td>\n",
       "      <td>no</td>\n",
       "      <td>fresh</td>\n",
       "      <td>33</td>\n",
       "    </tr>\n",
       "    <tr>\n",
       "      <th>120</th>\n",
       "      <td>radish</td>\n",
       "      <td>summer</td>\n",
       "      <td>apr</td>\n",
       "      <td>32</td>\n",
       "      <td>no</td>\n",
       "      <td>fresh</td>\n",
       "      <td>9</td>\n",
       "    </tr>\n",
       "  </tbody>\n",
       "</table>\n",
       "<p>121 rows × 7 columns</p>\n",
       "</div>"
      ],
      "text/plain": [
       "    Vegetable  Season Month  Temp Deasaster Happen in last 3month  \\\n",
       "0      potato  winter   jan    15                              no   \n",
       "1     tomato   winter   jan    15                              no   \n",
       "2        peas  winter   jan    15                              no   \n",
       "3      pumkin  winter   jan    15                              no   \n",
       "4    cucumber  winter   jan    15                              no   \n",
       "..        ...     ...   ...   ...                             ...   \n",
       "116   brinjal  winter   jan    15                             yes   \n",
       "117    ginger  winter   jan    15                              no   \n",
       "118    potato  summer   apr    32                              no   \n",
       "119      peas  summer   apr    33                              no   \n",
       "120    radish  summer   apr    32                              no   \n",
       "\n",
       "    Vegetable condition  Price per kg  \n",
       "0                 fresh            20  \n",
       "1                 fresh            50  \n",
       "2                 fresh            70  \n",
       "3                 fresh            25  \n",
       "4                 fresh            20  \n",
       "..                  ...           ...  \n",
       "116               fresh            33  \n",
       "117               fresh            88  \n",
       "118               fresh            24  \n",
       "119               fresh            33  \n",
       "120               fresh             9  \n",
       "\n",
       "[121 rows x 7 columns]"
      ]
     },
     "execution_count": 17,
     "metadata": {
      "tags": []
     },
     "output_type": "execute_result"
    }
   ],
   "source": [
    "df.dropna()"
   ]
  },
  {
   "cell_type": "markdown",
   "metadata": {
    "id": "sUgLKB0hkq0D"
   },
   "source": [
    "### Changing yes/no to 1/0"
   ]
  },
  {
   "cell_type": "code",
   "execution_count": null,
   "metadata": {
    "id": "m8xMYfUNkq0D"
   },
   "outputs": [],
   "source": [
    "df[\"Deasaster Happen in last 3month\"] = df[\"Deasaster Happen in last 3month\"].map({'yes':True ,'no':False})"
   ]
  },
  {
   "cell_type": "code",
   "execution_count": null,
   "metadata": {
    "id": "dEx-NzVQkq0D",
    "outputId": "11297d03-b6cd-4e17-8f10-23b25cf8c262"
   },
   "outputs": [
    {
     "data": {
      "text/html": [
       "<div>\n",
       "<style scoped>\n",
       "    .dataframe tbody tr th:only-of-type {\n",
       "        vertical-align: middle;\n",
       "    }\n",
       "\n",
       "    .dataframe tbody tr th {\n",
       "        vertical-align: top;\n",
       "    }\n",
       "\n",
       "    .dataframe thead th {\n",
       "        text-align: right;\n",
       "    }\n",
       "</style>\n",
       "<table border=\"1\" class=\"dataframe\">\n",
       "  <thead>\n",
       "    <tr style=\"text-align: right;\">\n",
       "      <th></th>\n",
       "      <th>Vegetable</th>\n",
       "      <th>Season</th>\n",
       "      <th>Month</th>\n",
       "      <th>Temp</th>\n",
       "      <th>Deasaster Happen in last 3month</th>\n",
       "      <th>Vegetable condition</th>\n",
       "      <th>Price per kg</th>\n",
       "    </tr>\n",
       "  </thead>\n",
       "  <tbody>\n",
       "    <tr>\n",
       "      <th>0</th>\n",
       "      <td>potato</td>\n",
       "      <td>winter</td>\n",
       "      <td>jan</td>\n",
       "      <td>15</td>\n",
       "      <td>False</td>\n",
       "      <td>fresh</td>\n",
       "      <td>20</td>\n",
       "    </tr>\n",
       "    <tr>\n",
       "      <th>1</th>\n",
       "      <td>tomato</td>\n",
       "      <td>winter</td>\n",
       "      <td>jan</td>\n",
       "      <td>15</td>\n",
       "      <td>False</td>\n",
       "      <td>fresh</td>\n",
       "      <td>50</td>\n",
       "    </tr>\n",
       "    <tr>\n",
       "      <th>2</th>\n",
       "      <td>peas</td>\n",
       "      <td>winter</td>\n",
       "      <td>jan</td>\n",
       "      <td>15</td>\n",
       "      <td>False</td>\n",
       "      <td>fresh</td>\n",
       "      <td>70</td>\n",
       "    </tr>\n",
       "    <tr>\n",
       "      <th>3</th>\n",
       "      <td>pumkin</td>\n",
       "      <td>winter</td>\n",
       "      <td>jan</td>\n",
       "      <td>15</td>\n",
       "      <td>False</td>\n",
       "      <td>fresh</td>\n",
       "      <td>25</td>\n",
       "    </tr>\n",
       "    <tr>\n",
       "      <th>4</th>\n",
       "      <td>cucumber</td>\n",
       "      <td>winter</td>\n",
       "      <td>jan</td>\n",
       "      <td>15</td>\n",
       "      <td>False</td>\n",
       "      <td>fresh</td>\n",
       "      <td>20</td>\n",
       "    </tr>\n",
       "    <tr>\n",
       "      <th>...</th>\n",
       "      <td>...</td>\n",
       "      <td>...</td>\n",
       "      <td>...</td>\n",
       "      <td>...</td>\n",
       "      <td>...</td>\n",
       "      <td>...</td>\n",
       "      <td>...</td>\n",
       "    </tr>\n",
       "    <tr>\n",
       "      <th>116</th>\n",
       "      <td>brinjal</td>\n",
       "      <td>winter</td>\n",
       "      <td>jan</td>\n",
       "      <td>15</td>\n",
       "      <td>True</td>\n",
       "      <td>fresh</td>\n",
       "      <td>33</td>\n",
       "    </tr>\n",
       "    <tr>\n",
       "      <th>117</th>\n",
       "      <td>ginger</td>\n",
       "      <td>winter</td>\n",
       "      <td>jan</td>\n",
       "      <td>15</td>\n",
       "      <td>False</td>\n",
       "      <td>fresh</td>\n",
       "      <td>88</td>\n",
       "    </tr>\n",
       "    <tr>\n",
       "      <th>118</th>\n",
       "      <td>potato</td>\n",
       "      <td>summer</td>\n",
       "      <td>apr</td>\n",
       "      <td>32</td>\n",
       "      <td>False</td>\n",
       "      <td>fresh</td>\n",
       "      <td>24</td>\n",
       "    </tr>\n",
       "    <tr>\n",
       "      <th>119</th>\n",
       "      <td>peas</td>\n",
       "      <td>summer</td>\n",
       "      <td>apr</td>\n",
       "      <td>33</td>\n",
       "      <td>False</td>\n",
       "      <td>fresh</td>\n",
       "      <td>33</td>\n",
       "    </tr>\n",
       "    <tr>\n",
       "      <th>120</th>\n",
       "      <td>radish</td>\n",
       "      <td>summer</td>\n",
       "      <td>apr</td>\n",
       "      <td>32</td>\n",
       "      <td>False</td>\n",
       "      <td>fresh</td>\n",
       "      <td>9</td>\n",
       "    </tr>\n",
       "  </tbody>\n",
       "</table>\n",
       "<p>121 rows × 7 columns</p>\n",
       "</div>"
      ],
      "text/plain": [
       "    Vegetable  Season Month  Temp  Deasaster Happen in last 3month  \\\n",
       "0      potato  winter   jan    15                            False   \n",
       "1     tomato   winter   jan    15                            False   \n",
       "2        peas  winter   jan    15                            False   \n",
       "3      pumkin  winter   jan    15                            False   \n",
       "4    cucumber  winter   jan    15                            False   \n",
       "..        ...     ...   ...   ...                              ...   \n",
       "116   brinjal  winter   jan    15                             True   \n",
       "117    ginger  winter   jan    15                            False   \n",
       "118    potato  summer   apr    32                            False   \n",
       "119      peas  summer   apr    33                            False   \n",
       "120    radish  summer   apr    32                            False   \n",
       "\n",
       "    Vegetable condition  Price per kg  \n",
       "0                 fresh            20  \n",
       "1                 fresh            50  \n",
       "2                 fresh            70  \n",
       "3                 fresh            25  \n",
       "4                 fresh            20  \n",
       "..                  ...           ...  \n",
       "116               fresh            33  \n",
       "117               fresh            88  \n",
       "118               fresh            24  \n",
       "119               fresh            33  \n",
       "120               fresh             9  \n",
       "\n",
       "[121 rows x 7 columns]"
      ]
     },
     "execution_count": 19,
     "metadata": {
      "tags": []
     },
     "output_type": "execute_result"
    }
   ],
   "source": [
    "df"
   ]
  },
  {
   "cell_type": "code",
   "execution_count": null,
   "metadata": {
    "id": "0nXvFbXwkq0E"
   },
   "outputs": [],
   "source": [
    "df[\"Deasaster Happen in last 3month\"] = df[\"Deasaster Happen in last 3month\"].astype(int)"
   ]
  },
  {
   "cell_type": "code",
   "execution_count": null,
   "metadata": {
    "id": "rKLKrIi8kq0E",
    "outputId": "e6bf0cef-2732-4058-9aae-06d40726d483"
   },
   "outputs": [
    {
     "data": {
      "text/html": [
       "<div>\n",
       "<style scoped>\n",
       "    .dataframe tbody tr th:only-of-type {\n",
       "        vertical-align: middle;\n",
       "    }\n",
       "\n",
       "    .dataframe tbody tr th {\n",
       "        vertical-align: top;\n",
       "    }\n",
       "\n",
       "    .dataframe thead th {\n",
       "        text-align: right;\n",
       "    }\n",
       "</style>\n",
       "<table border=\"1\" class=\"dataframe\">\n",
       "  <thead>\n",
       "    <tr style=\"text-align: right;\">\n",
       "      <th></th>\n",
       "      <th>Vegetable</th>\n",
       "      <th>Season</th>\n",
       "      <th>Month</th>\n",
       "      <th>Temp</th>\n",
       "      <th>Deasaster Happen in last 3month</th>\n",
       "      <th>Vegetable condition</th>\n",
       "      <th>Price per kg</th>\n",
       "    </tr>\n",
       "  </thead>\n",
       "  <tbody>\n",
       "    <tr>\n",
       "      <th>0</th>\n",
       "      <td>potato</td>\n",
       "      <td>winter</td>\n",
       "      <td>jan</td>\n",
       "      <td>15</td>\n",
       "      <td>0</td>\n",
       "      <td>fresh</td>\n",
       "      <td>20</td>\n",
       "    </tr>\n",
       "    <tr>\n",
       "      <th>1</th>\n",
       "      <td>tomato</td>\n",
       "      <td>winter</td>\n",
       "      <td>jan</td>\n",
       "      <td>15</td>\n",
       "      <td>0</td>\n",
       "      <td>fresh</td>\n",
       "      <td>50</td>\n",
       "    </tr>\n",
       "    <tr>\n",
       "      <th>2</th>\n",
       "      <td>peas</td>\n",
       "      <td>winter</td>\n",
       "      <td>jan</td>\n",
       "      <td>15</td>\n",
       "      <td>0</td>\n",
       "      <td>fresh</td>\n",
       "      <td>70</td>\n",
       "    </tr>\n",
       "    <tr>\n",
       "      <th>3</th>\n",
       "      <td>pumkin</td>\n",
       "      <td>winter</td>\n",
       "      <td>jan</td>\n",
       "      <td>15</td>\n",
       "      <td>0</td>\n",
       "      <td>fresh</td>\n",
       "      <td>25</td>\n",
       "    </tr>\n",
       "    <tr>\n",
       "      <th>4</th>\n",
       "      <td>cucumber</td>\n",
       "      <td>winter</td>\n",
       "      <td>jan</td>\n",
       "      <td>15</td>\n",
       "      <td>0</td>\n",
       "      <td>fresh</td>\n",
       "      <td>20</td>\n",
       "    </tr>\n",
       "    <tr>\n",
       "      <th>...</th>\n",
       "      <td>...</td>\n",
       "      <td>...</td>\n",
       "      <td>...</td>\n",
       "      <td>...</td>\n",
       "      <td>...</td>\n",
       "      <td>...</td>\n",
       "      <td>...</td>\n",
       "    </tr>\n",
       "    <tr>\n",
       "      <th>116</th>\n",
       "      <td>brinjal</td>\n",
       "      <td>winter</td>\n",
       "      <td>jan</td>\n",
       "      <td>15</td>\n",
       "      <td>1</td>\n",
       "      <td>fresh</td>\n",
       "      <td>33</td>\n",
       "    </tr>\n",
       "    <tr>\n",
       "      <th>117</th>\n",
       "      <td>ginger</td>\n",
       "      <td>winter</td>\n",
       "      <td>jan</td>\n",
       "      <td>15</td>\n",
       "      <td>0</td>\n",
       "      <td>fresh</td>\n",
       "      <td>88</td>\n",
       "    </tr>\n",
       "    <tr>\n",
       "      <th>118</th>\n",
       "      <td>potato</td>\n",
       "      <td>summer</td>\n",
       "      <td>apr</td>\n",
       "      <td>32</td>\n",
       "      <td>0</td>\n",
       "      <td>fresh</td>\n",
       "      <td>24</td>\n",
       "    </tr>\n",
       "    <tr>\n",
       "      <th>119</th>\n",
       "      <td>peas</td>\n",
       "      <td>summer</td>\n",
       "      <td>apr</td>\n",
       "      <td>33</td>\n",
       "      <td>0</td>\n",
       "      <td>fresh</td>\n",
       "      <td>33</td>\n",
       "    </tr>\n",
       "    <tr>\n",
       "      <th>120</th>\n",
       "      <td>radish</td>\n",
       "      <td>summer</td>\n",
       "      <td>apr</td>\n",
       "      <td>32</td>\n",
       "      <td>0</td>\n",
       "      <td>fresh</td>\n",
       "      <td>9</td>\n",
       "    </tr>\n",
       "  </tbody>\n",
       "</table>\n",
       "<p>121 rows × 7 columns</p>\n",
       "</div>"
      ],
      "text/plain": [
       "    Vegetable  Season Month  Temp  Deasaster Happen in last 3month  \\\n",
       "0      potato  winter   jan    15                                0   \n",
       "1     tomato   winter   jan    15                                0   \n",
       "2        peas  winter   jan    15                                0   \n",
       "3      pumkin  winter   jan    15                                0   \n",
       "4    cucumber  winter   jan    15                                0   \n",
       "..        ...     ...   ...   ...                              ...   \n",
       "116   brinjal  winter   jan    15                                1   \n",
       "117    ginger  winter   jan    15                                0   \n",
       "118    potato  summer   apr    32                                0   \n",
       "119      peas  summer   apr    33                                0   \n",
       "120    radish  summer   apr    32                                0   \n",
       "\n",
       "    Vegetable condition  Price per kg  \n",
       "0                 fresh            20  \n",
       "1                 fresh            50  \n",
       "2                 fresh            70  \n",
       "3                 fresh            25  \n",
       "4                 fresh            20  \n",
       "..                  ...           ...  \n",
       "116               fresh            33  \n",
       "117               fresh            88  \n",
       "118               fresh            24  \n",
       "119               fresh            33  \n",
       "120               fresh             9  \n",
       "\n",
       "[121 rows x 7 columns]"
      ]
     },
     "execution_count": 21,
     "metadata": {
      "tags": []
     },
     "output_type": "execute_result"
    }
   ],
   "source": [
    "df"
   ]
  },
  {
   "cell_type": "markdown",
   "metadata": {
    "id": "p_HYXxMakq0E"
   },
   "source": [
    "The values have been converted"
   ]
  },
  {
   "cell_type": "markdown",
   "metadata": {
    "id": "mvNhfoGFkq0E"
   },
   "source": [
    "### Correcting the vegetable names and conditions"
   ]
  },
  {
   "cell_type": "code",
   "execution_count": null,
   "metadata": {
    "id": "n5-F8Wuzkq0F"
   },
   "outputs": [],
   "source": [
    "df[\"Vegetable\"] = df[\"Vegetable\"].replace(\"tomato \", \"tomato\")\n",
    "df[\"Vegetable\"] = df[\"Vegetable\"].replace(\"pumkin\", \"pumpkin\")\n",
    "df[\"Vegetable\"] = df[\"Vegetable\"].replace(\"Raddish\", \"raddish\")\n",
    "df[\"Vegetable\"] = df[\"Vegetable\"].replace(\"Bitter gourd\", \"bitter gourd\")\n",
    "df[\"Vegetable\"] = df[\"Vegetable\"].replace(\"pointed grourd \", \"pointed gourd\")\n",
    "df[\"Vegetable\"] = df[\"Vegetable\"].replace(\"cabage\", \"cabbage\")\n",
    "df[\"Vegetable\"] = df[\"Vegetable\"].replace(\"califlower\", \"cauliflower\")\n",
    "df[\"Vegetable\"] = df[\"Vegetable\"].replace(\"radish\", \"raddish\")"
   ]
  },
  {
   "cell_type": "code",
   "execution_count": null,
   "metadata": {
    "id": "aVd8XMmdkq0F",
    "outputId": "f07decb0-82a9-427f-b60e-41bfd7fe5116"
   },
   "outputs": [
    {
     "data": {
      "text/plain": [
       "array(['potato', 'tomato', 'peas', 'pumpkin', 'cucumber', 'pointed gourd',\n",
       "       'raddish', 'bitter gourd', 'onion', 'garlic', 'cabbage',\n",
       "       'cauliflower', 'chilly', 'okra', 'brinjal', 'ginger'], dtype=object)"
      ]
     },
     "execution_count": 23,
     "metadata": {
      "tags": []
     },
     "output_type": "execute_result"
    }
   ],
   "source": [
    "df[\"Vegetable\"].unique()"
   ]
  },
  {
   "cell_type": "code",
   "execution_count": null,
   "metadata": {
    "id": "p3cZP5pHkq0G"
   },
   "outputs": [],
   "source": [
    "df[\"Vegetable condition\"] = df[\"Vegetable condition\"].replace(\"scarp\", \"scrap\")\n",
    "df[\"Vegetable condition\"] = df[\"Vegetable condition\"].replace(\"avarage\", \"average\")"
   ]
  },
  {
   "cell_type": "code",
   "execution_count": null,
   "metadata": {
    "id": "R3RJOBHSkq0G",
    "outputId": "3253f0d2-7d59-4401-bda1-8753cccffd9a"
   },
   "outputs": [
    {
     "data": {
      "text/plain": [
       "array(['fresh', 'scrap', 'average'], dtype=object)"
      ]
     },
     "execution_count": 25,
     "metadata": {
      "tags": []
     },
     "output_type": "execute_result"
    }
   ],
   "source": [
    "df[\"Vegetable condition\"].unique()"
   ]
  },
  {
   "cell_type": "code",
   "execution_count": null,
   "metadata": {
    "id": "0g4cf_c0kq0G",
    "outputId": "f7f89cb9-b0ca-4ca7-e6e7-06b2be3b2955"
   },
   "outputs": [
    {
     "name": "stdout",
     "output_type": "stream",
     "text": [
      "<class 'pandas.core.frame.DataFrame'>\n",
      "RangeIndex: 121 entries, 0 to 120\n",
      "Data columns (total 7 columns):\n",
      " #   Column                           Non-Null Count  Dtype \n",
      "---  ------                           --------------  ----- \n",
      " 0   Vegetable                        121 non-null    object\n",
      " 1   Season                           121 non-null    object\n",
      " 2   Month                            121 non-null    object\n",
      " 3   Temp                             121 non-null    int64 \n",
      " 4   Deasaster Happen in last 3month  121 non-null    int32 \n",
      " 5   Vegetable condition              121 non-null    object\n",
      " 6   Price per kg                     121 non-null    int64 \n",
      "dtypes: int32(1), int64(2), object(4)\n",
      "memory usage: 6.3+ KB\n"
     ]
    }
   ],
   "source": [
    "df.info()"
   ]
  },
  {
   "cell_type": "code",
   "execution_count": null,
   "metadata": {
    "id": "zcduz3jKkq0H",
    "outputId": "1d237e34-3bae-4eb4-89df-38ddb8187443",
    "scrolled": true
   },
   "outputs": [
    {
     "data": {
      "text/plain": [
       "<bound method DataFrame.info of     Vegetable  Season Month  Temp  Deasaster Happen in last 3month  \\\n",
       "0      potato  winter   jan    15                                0   \n",
       "1      tomato  winter   jan    15                                0   \n",
       "2        peas  winter   jan    15                                0   \n",
       "3     pumpkin  winter   jan    15                                0   \n",
       "4    cucumber  winter   jan    15                                0   \n",
       "..        ...     ...   ...   ...                              ...   \n",
       "116   brinjal  winter   jan    15                                1   \n",
       "117    ginger  winter   jan    15                                0   \n",
       "118    potato  summer   apr    32                                0   \n",
       "119      peas  summer   apr    33                                0   \n",
       "120   raddish  summer   apr    32                                0   \n",
       "\n",
       "    Vegetable condition  Price per kg  \n",
       "0                 fresh            20  \n",
       "1                 fresh            50  \n",
       "2                 fresh            70  \n",
       "3                 fresh            25  \n",
       "4                 fresh            20  \n",
       "..                  ...           ...  \n",
       "116               fresh            33  \n",
       "117               fresh            88  \n",
       "118               fresh            24  \n",
       "119               fresh            33  \n",
       "120               fresh             9  \n",
       "\n",
       "[121 rows x 7 columns]>"
      ]
     },
     "execution_count": 27,
     "metadata": {
      "tags": []
     },
     "output_type": "execute_result"
    }
   ],
   "source": [
    "df.info"
   ]
  },
  {
   "cell_type": "code",
   "execution_count": null,
   "metadata": {
    "id": "bTIKdtsnkq0H",
    "outputId": "9d4e2a9a-6167-427f-9dba-683745b5b647",
    "scrolled": true
   },
   "outputs": [
    {
     "data": {
      "text/html": [
       "<div>\n",
       "<style scoped>\n",
       "    .dataframe tbody tr th:only-of-type {\n",
       "        vertical-align: middle;\n",
       "    }\n",
       "\n",
       "    .dataframe tbody tr th {\n",
       "        vertical-align: top;\n",
       "    }\n",
       "\n",
       "    .dataframe thead th {\n",
       "        text-align: right;\n",
       "    }\n",
       "</style>\n",
       "<table border=\"1\" class=\"dataframe\">\n",
       "  <thead>\n",
       "    <tr style=\"text-align: right;\">\n",
       "      <th></th>\n",
       "      <th>Temp</th>\n",
       "      <th>Deasaster Happen in last 3month</th>\n",
       "      <th>Price per kg</th>\n",
       "    </tr>\n",
       "  </thead>\n",
       "  <tbody>\n",
       "    <tr>\n",
       "      <th>Temp</th>\n",
       "      <td>1.000000</td>\n",
       "      <td>0.204812</td>\n",
       "      <td>0.110549</td>\n",
       "    </tr>\n",
       "    <tr>\n",
       "      <th>Deasaster Happen in last 3month</th>\n",
       "      <td>0.204812</td>\n",
       "      <td>1.000000</td>\n",
       "      <td>0.441536</td>\n",
       "    </tr>\n",
       "    <tr>\n",
       "      <th>Price per kg</th>\n",
       "      <td>0.110549</td>\n",
       "      <td>0.441536</td>\n",
       "      <td>1.000000</td>\n",
       "    </tr>\n",
       "  </tbody>\n",
       "</table>\n",
       "</div>"
      ],
      "text/plain": [
       "                                     Temp  Deasaster Happen in last 3month  \\\n",
       "Temp                             1.000000                         0.204812   \n",
       "Deasaster Happen in last 3month  0.204812                         1.000000   \n",
       "Price per kg                     0.110549                         0.441536   \n",
       "\n",
       "                                 Price per kg  \n",
       "Temp                                 0.110549  \n",
       "Deasaster Happen in last 3month      0.441536  \n",
       "Price per kg                         1.000000  "
      ]
     },
     "execution_count": 28,
     "metadata": {
      "tags": []
     },
     "output_type": "execute_result"
    }
   ],
   "source": [
    "df.corr()"
   ]
  },
  {
   "cell_type": "code",
   "execution_count": null,
   "metadata": {
    "id": "q_YgrDZlkq0H",
    "outputId": "11c1263b-7363-4029-a1af-ecd4963b033e"
   },
   "outputs": [
    {
     "data": {
      "text/html": [
       "<div>\n",
       "<style scoped>\n",
       "    .dataframe tbody tr th:only-of-type {\n",
       "        vertical-align: middle;\n",
       "    }\n",
       "\n",
       "    .dataframe tbody tr th {\n",
       "        vertical-align: top;\n",
       "    }\n",
       "\n",
       "    .dataframe thead th {\n",
       "        text-align: right;\n",
       "    }\n",
       "</style>\n",
       "<table border=\"1\" class=\"dataframe\">\n",
       "  <thead>\n",
       "    <tr style=\"text-align: right;\">\n",
       "      <th></th>\n",
       "      <th>Temp</th>\n",
       "      <th>Deasaster Happen in last 3month</th>\n",
       "      <th>Price per kg</th>\n",
       "    </tr>\n",
       "  </thead>\n",
       "  <tbody>\n",
       "    <tr>\n",
       "      <th>count</th>\n",
       "      <td>121.000000</td>\n",
       "      <td>121.000000</td>\n",
       "      <td>121.000000</td>\n",
       "    </tr>\n",
       "    <tr>\n",
       "      <th>mean</th>\n",
       "      <td>24.892562</td>\n",
       "      <td>0.264463</td>\n",
       "      <td>55.330579</td>\n",
       "    </tr>\n",
       "    <tr>\n",
       "      <th>std</th>\n",
       "      <td>9.319157</td>\n",
       "      <td>0.442881</td>\n",
       "      <td>48.769934</td>\n",
       "    </tr>\n",
       "    <tr>\n",
       "      <th>min</th>\n",
       "      <td>15.000000</td>\n",
       "      <td>0.000000</td>\n",
       "      <td>9.000000</td>\n",
       "    </tr>\n",
       "    <tr>\n",
       "      <th>25%</th>\n",
       "      <td>15.000000</td>\n",
       "      <td>0.000000</td>\n",
       "      <td>22.000000</td>\n",
       "    </tr>\n",
       "    <tr>\n",
       "      <th>50%</th>\n",
       "      <td>27.000000</td>\n",
       "      <td>0.000000</td>\n",
       "      <td>35.000000</td>\n",
       "    </tr>\n",
       "    <tr>\n",
       "      <th>75%</th>\n",
       "      <td>32.000000</td>\n",
       "      <td>1.000000</td>\n",
       "      <td>70.000000</td>\n",
       "    </tr>\n",
       "    <tr>\n",
       "      <th>max</th>\n",
       "      <td>43.000000</td>\n",
       "      <td>1.000000</td>\n",
       "      <td>250.000000</td>\n",
       "    </tr>\n",
       "  </tbody>\n",
       "</table>\n",
       "</div>"
      ],
      "text/plain": [
       "             Temp  Deasaster Happen in last 3month  Price per kg\n",
       "count  121.000000                       121.000000    121.000000\n",
       "mean    24.892562                         0.264463     55.330579\n",
       "std      9.319157                         0.442881     48.769934\n",
       "min     15.000000                         0.000000      9.000000\n",
       "25%     15.000000                         0.000000     22.000000\n",
       "50%     27.000000                         0.000000     35.000000\n",
       "75%     32.000000                         1.000000     70.000000\n",
       "max     43.000000                         1.000000    250.000000"
      ]
     },
     "execution_count": 29,
     "metadata": {
      "tags": []
     },
     "output_type": "execute_result"
    }
   ],
   "source": [
    "df.describe()"
   ]
  },
  {
   "cell_type": "markdown",
   "metadata": {
    "id": "K0gOLCXwkq0I"
   },
   "source": [
    "# Visualisation"
   ]
  },
  {
   "cell_type": "markdown",
   "metadata": {
    "id": "efOlu6x4kq0I"
   },
   "source": [
    "### Plotting temperature frequency"
   ]
  },
  {
   "cell_type": "code",
   "execution_count": null,
   "metadata": {
    "id": "GCJZQ_Jvkq0I",
    "outputId": "d592ef71-e309-4c06-e749-7dcf8a8161b1"
   },
   "outputs": [
    {
     "data": {
      "image/png": "[encoded data removed]",
      "text/plain": [
       "<Figure size 360x360 with 1 Axes>"
      ]
     },
     "metadata": {
      "needs_background": "light",
      "tags": []
     },
     "output_type": "display_data"
    }
   ],
   "source": [
    "plt.figure(figsize = (5, 5))\n",
    "\n",
    "df[\"Temp\"].plot(kind = 'hist', color = \"purple\")\n",
    "\n",
    "plt.title(\"Temperature Distribution\", fontsize = 25)\n",
    "plt.xlabel(\"Temperature\", fontsize = 20)\n",
    "plt.ylabel(\"Frequency\", fontsize = 20)\n",
    "plt.savefig(\"temp.png\")"
   ]
  },
  {
   "cell_type": "markdown",
   "metadata": {
    "id": "TCO_7KOLkq0J"
   },
   "source": [
    "The temperatures between 15 degrees and 20 degrees are the most common"
   ]
  },
  {
   "cell_type": "markdown",
   "metadata": {
    "id": "KsRSLSEhkq0J"
   },
   "source": [
    "### Plotting various vegetable conditions "
   ]
  },
  {
   "cell_type": "code",
   "execution_count": null,
   "metadata": {
    "id": "syJWU7fXkq0J",
    "outputId": "62029f74-c002-4205-b444-df057cdb247b"
   },
   "outputs": [
    {
     "data": {
      "image/png": "[encoded data removed]",
      "text/plain": [
       "<Figure size 360x360 with 1 Axes>"
      ]
     },
     "metadata": {
      "needs_background": "light",
      "tags": []
     },
     "output_type": "display_data"
    }
   ],
   "source": [
    "f = 0\n",
    "s = 0\n",
    "a = 0\n",
    "for i in df[\"Vegetable condition\"]:\n",
    "    if i == \"fresh\":\n",
    "        f += 1\n",
    "    elif i == \"average\":\n",
    "        a += 1\n",
    "    elif i == \"scrap\":\n",
    "        s += 1\n",
    "        \n",
    "plt.figure(figsize = (5, 5))\n",
    "\n",
    "condition = (\"Fresh\", \"Average\", \"Scrap\")\n",
    "y_pos = np.arange(len(condition))\n",
    "frequency = [f, a, s]\n",
    "\n",
    "plt.title(\"Vegetable Condition\", fontsize = 30)\n",
    "plt.xlabel(\"Condition\", fontsize = 20)\n",
    "plt.ylabel(\"Frequency\", fontsize = 20)\n",
    "\n",
    "plt.bar(y_pos, frequency, align = 'center', color = \"Orange\")\n",
    "plt.xticks(y_pos, condition)\n",
    "plt.savefig(\"Condition.png\")\n",
    "plt.show()"
   ]
  },
  {
   "cell_type": "code",
   "execution_count": null,
   "metadata": {
    "id": "zd85790Ikq0K",
    "outputId": "8602f27e-fb0f-4c27-9ead-ee9e0285d19b"
   },
   "outputs": [
    {
     "data": {
      "image/png": "[encoded data removed]",
      "text/plain": [
       "<Figure size 540x540 with 12 Axes>"
      ]
     },
     "metadata": {
      "needs_background": "light",
      "tags": []
     },
     "output_type": "display_data"
    }
   ],
   "source": [
    "sns.pairplot(df)\n",
    "plt.savefig(\"Pairplot.png\")"
   ]
  },
  {
   "cell_type": "code",
   "execution_count": null,
   "metadata": {
    "id": "AxKh_N5bkq0K",
    "outputId": "8c8a1a51-cfd2-4ca3-8e12-66b3204aabbb"
   },
   "outputs": [
    {
     "data": {
      "image/png": "[encoded data removed]",
      "text/plain": [
       "<Figure size 432x288 with 2 Axes>"
      ]
     },
     "metadata": {
      "needs_background": "light",
      "tags": []
     },
     "output_type": "display_data"
    }
   ],
   "source": [
    "sns.heatmap(df.corr(), annot = True)\n",
    "plt.savefig(\"Heatmap.png\")"
   ]
  },
  {
   "cell_type": "markdown",
   "metadata": {
    "id": "TF73j7LOkq0L"
   },
   "source": [
    "# Prediction Model"
   ]
  },
  {
   "cell_type": "code",
   "execution_count": null,
   "metadata": {
    "id": "pr7itcX1kq0L"
   },
   "outputs": [],
   "source": [
    "x = df.drop(columns = \"Price per kg\")"
   ]
  },
  {
   "cell_type": "code",
   "execution_count": null,
   "metadata": {
    "id": "DdEKc1z5kq0L"
   },
   "outputs": [],
   "source": [
    "y = df[\"Price per kg\"]"
   ]
  },
  {
   "cell_type": "code",
   "execution_count": null,
   "metadata": {
    "id": "C20GV9FIkq0L"
   },
   "outputs": [],
   "source": [
    "x_train, x_test, y_train, y_test = train_test_split(x, y, test_size = 0.3)"
   ]
  },
  {
   "cell_type": "code",
   "execution_count": null,
   "metadata": {
    "id": "4qpaaao8kq0M"
   },
   "outputs": [],
   "source": [
    "ohe = OneHotEncoder()"
   ]
  },
  {
   "cell_type": "code",
   "execution_count": null,
   "metadata": {
    "id": "9D8ezPf3kq0M",
    "outputId": "e32dcdd8-36f8-4fb5-dabd-ac1e06b573ec"
   },
   "outputs": [
    {
     "data": {
      "text/plain": [
       "OneHotEncoder()"
      ]
     },
     "execution_count": 38,
     "metadata": {
      "tags": []
     },
     "output_type": "execute_result"
    }
   ],
   "source": [
    "ohe.fit(x[[\"Vegetable\", \"Season\", \"Month\", \"Deasaster Happen in last 3month\", \"Vegetable condition\"]])"
   ]
  },
  {
   "cell_type": "code",
   "execution_count": null,
   "metadata": {
    "id": "LphsS5wTkq0M"
   },
   "outputs": [],
   "source": [
    "column_trans = make_column_transformer((OneHotEncoder(categories = ohe.categories_), [\"Vegetable\", \"Season\", \"Month\", \"Deasaster Happen in last 3month\", \"Vegetable condition\"]), \n",
    "                                       remainder = \"passthrough\")"
   ]
  },
  {
   "cell_type": "code",
   "execution_count": null,
   "metadata": {
    "id": "TxB7foKPkq0M"
   },
   "outputs": [],
   "source": [
    "lr = LinearRegression()"
   ]
  },
  {
   "cell_type": "code",
   "execution_count": null,
   "metadata": {
    "id": "qdju3m9Nkq0N"
   },
   "outputs": [],
   "source": [
    "pipe = make_pipeline(column_trans, lr)"
   ]
  },
  {
   "cell_type": "code",
   "execution_count": null,
   "metadata": {
    "id": "fj3FDt4-kq0N",
    "outputId": "28891107-1038-42a9-9397-534c69cbd6a4"
   },
   "outputs": [
    {
     "data": {
      "text/plain": [
       "Pipeline(steps=[('columntransformer',\n",
       "                 ColumnTransformer(remainder='passthrough',\n",
       "                                   transformers=[('onehotencoder',\n",
       "                                                  OneHotEncoder(categories=[array(['bitter gourd', 'brinjal', 'cabbage', 'cauliflower', 'chilly',\n",
       "       'cucumber', 'garlic', 'ginger', 'okra', 'onion', 'peas',\n",
       "       'pointed gourd', 'potato', 'pumpkin', 'raddish', 'tomato'],\n",
       "      dtype=object),\n",
       "                                                                            array(['autumn', 'monsoon', 'spring', 'summer', 'winter'], dtype=object),\n",
       "                                                                            array([' ', 'apr', 'aug', 'dec', 'jan', 'july', 'june', 'march', 'may',\n",
       "       'oct', 'sept'], dtype=object),\n",
       "                                                                            array([0, 1]),\n",
       "                                                                            array(['average', 'fresh', 'scrap'], dtype=object)]),\n",
       "                                                  ['Vegetable', 'Season',\n",
       "                                                   'Month',\n",
       "                                                   'Deasaster Happen in last '\n",
       "                                                   '3month',\n",
       "                                                   'Vegetable condition'])])),\n",
       "                ('linearregression', LinearRegression())])"
      ]
     },
     "execution_count": 42,
     "metadata": {
      "tags": []
     },
     "output_type": "execute_result"
    }
   ],
   "source": [
    "pipe.fit(x_train, y_train)"
   ]
  },
  {
   "cell_type": "code",
   "execution_count": null,
   "metadata": {
    "id": "Vatjtrr9kq0N"
   },
   "outputs": [],
   "source": [
    "y_pred = pipe.predict(x_test)"
   ]
  },
  {
   "cell_type": "code",
   "execution_count": null,
   "metadata": {
    "id": "MtgYPBd2kq0N",
    "outputId": "8f079125-5003-4e54-81d3-3e4fe586bd01"
   },
   "outputs": [
    {
     "data": {
      "text/plain": [
       "array([ 54.99999865,  71.69174623,  28.45863582,   0.86070283,\n",
       "        13.49999804, 127.50000097,  19.193703  ,   5.16434787,\n",
       "       110.98682643,  -3.50364425, 141.78748996,  35.8227311 ,\n",
       "        36.44188251,  80.00000087, 110.98682643, -17.73060969,\n",
       "        52.26408249,  49.27099165,  39.36156476,  19.193703  ,\n",
       "        80.00000087, -17.73060969, -17.73060969,   8.13046268,\n",
       "         8.13046268, 127.50000097, 129.67881457,  80.00000087,\n",
       "        54.99999865, 141.78748996, 128.44537481, 161.15776006,\n",
       "        80.33835457,  33.42041545,  38.83672968,  49.87814649,\n",
       "        11.70629411])"
      ]
     },
     "execution_count": 48,
     "metadata": {
      "tags": []
     },
     "output_type": "execute_result"
    }
   ],
   "source": [
    "y_pred"
   ]
  },
  {
   "cell_type": "code",
   "execution_count": null,
   "metadata": {
    "id": "0pfhYG_6kq0O"
   },
   "outputs": [],
   "source": [
    "r2_score(y_test, y_pred)"
   ]
  },
  {
   "cell_type": "code",
   "execution_count": null,
   "metadata": {
    "id": "92UpKcZNkq0O"
   },
   "outputs": [],
   "source": [
    "def predict():\n",
    "    w = Tk()\n",
    "    w.title(\"Vegetable Price Predictor\")\n",
    "    w.geometry(\"500x500\")\n",
    "    w.resizable(0, 0)\n",
    "    \n",
    "    bg = PhotoImage( file = \"C:/Users/RAJESH KUMAR/Downloads/greenbg.png\")\n",
    "    \n",
    "    f = tk.Frame(w, height = 1000, width = 1000)\n",
    "    f.place(x = 0, y = 0)\n",
    "\n",
    "    l2 = tk.Label(f, height = 600, width = 800, image = bg)\n",
    "    l2.place(x = 0, y = 0)\n",
    "    \n",
    "    l = tk.Label(w, text = \"Vegetable Price Predictor\", bg = \"yellow\", fg = \"black\", font = \"cambria 25 bold\")\n",
    "    l.place(x = 55, y = 0) \n",
    "    \n",
    "    n = tk.StringVar()\n",
    "    t = ttk.Combobox(w, width = 23, textvariable = n, height = 10, state = \"readonly\")\n",
    "    t[\"values\"] = ['potato', 'tomato', 'peas', 'pumpkin', 'cucumber', 'pointed gourd', 'raddish', 'bitter gourd', \n",
    "                   'onion', 'garlic', 'cabbage', 'cauliflower', 'chilly', 'okra', 'brinjal', 'ginger']\n",
    "    t.place(x = 200,y = 80)\n",
    "    \n",
    "    l = tk.Label(w, text = \"Vegetable Name\", bg = \"yellow\", fg = \"black\", font = \"cambria 15 bold\")\n",
    "    l.place(x = 30, y = 80)\n",
    "    \n",
    "    t1= tk.Entry(w, width = 5, font = \"oswald 15\", highlightcolor = \"purple\",\n",
    "        relief = \"sunken\", highlightthickness = 0.5)\n",
    "    t1.place(x = 200, y = 130)\n",
    "    \n",
    "    l = tk.Label(w, text = \"Temperature\", bg = \"yellow\", fg = \"black\", font = \"cambria 15 bold\")\n",
    "    l.place(x = 30,y = 130)\n",
    "    \n",
    "    l = tk.Label(w, text = \"Disaster in the last 3 months (0/1)\", bg = \"yellow\", fg = \"black\", font = \"cambria 15 bold\")\n",
    "    l.place(x = 30, y = 180)\n",
    "    \n",
    "    t2= tk.Entry(w, width = 5, font = \"oswald 15\", highlightcolor = \"purple\",relief = \"sunken\", highlightthickness = 0.5)\n",
    "    t2.place(x = 390, y = 180)\n",
    "    \n",
    "    l = tk.Label(w, text = \"Season\", bg = \"yellow\", fg = \"black\", font = \"cambria 15 bold\")\n",
    "    l.place(x = 30, y = 230)\n",
    "    \n",
    "    t3= tk.Entry(w, width = 23, font = \"oswald 15\", highlightcolor = \"purple\",relief = \"sunken\", highlightthickness = 0.5)\n",
    "    t3.place(x = 200, y = 230)\n",
    "    \n",
    "    l = tk.Label(w, text = \"Month\", bg = \"yellow\", fg = \"black\", font = \"cambria 15 bold\")\n",
    "    l.place(x = 30, y = 280)\n",
    "    \n",
    "    n1 = tk.StringVar()\n",
    "    t4 = ttk.Combobox(w, width = 23, textvariable = n1, height = 10, state = \"readonly\")\n",
    "    t4[\"values\"] = ['jan', 'march', 'apr', 'may',  'june', 'july', 'aug', 'sept', 'oct', 'dec']\n",
    "    t4.place(x = 200,y = 280)\n",
    "    \n",
    "    def click():\n",
    "        ans = pipe.predict(pd.DataFrame([[t.get(), t3.get(), t4.get(), int(t1.get()), int(t2.get()), \"fresh\"]],\n",
    "                                  columns = [\"Vegetable\", \"Season\", \"Month\", \"Temp\", \"Deasaster Happen in last 3month\"\n",
    "                                            , \"Vegetable condition\"]))\n",
    "        l = tk.Label(w, text = ans, bg = \"red\", fg = \"black\", font = \"cambria 15 bold\")\n",
    "        l.place(x = 300, y = 350)\n",
    "    \n",
    "    b = tk.Button(w, text = \"Predict\", font = \"cambria 13 bold\",fg = \"white\",\n",
    "         width = 20,bg = \"black\", relief = \"flat\", activebackground = \"white\",activeforeground = \"#340878\", command = click)\n",
    "    b.place(x = 140,y = 450)\n",
    "    \n",
    "    l = tk.Label(w, text = \"Predicted Price (in Rs.)\", bg = \"yellow\", fg = \"black\", font = \"cambria 15 bold\")\n",
    "    l.place(x = 30, y = 350)\n",
    "    \n",
    "    mainloop()"
   ]
  },
  {
   "cell_type": "code",
   "execution_count": null,
   "metadata": {
    "id": "-wQW72n2kq0P"
   },
   "outputs": [],
   "source": [
    "predict()"
   ]
  }
 ],
 "metadata": {
  "colab": {
   "name": "COTM_MAY_2021 - JYOTI_SHIKHA - Jyoti Shikha.ipynb",
   "provenance": []
  },
  "kernelspec": {
   "display_name": "Python 3",
   "language": "python",
   "name": "python3"
  },
  "language_info": {
   "codemirror_mode": {
    "name": "ipython",
    "version": 3
   },
   "file_extension": ".py",
   "mimetype": "text/x-python",
   "name": "python",
   "nbconvert_exporter": "python",
   "pygments_lexer": "ipython3",
   "version": "3.8.3"
  }
 },
 "nbformat": 4,
 "nbformat_minor": 1
}
